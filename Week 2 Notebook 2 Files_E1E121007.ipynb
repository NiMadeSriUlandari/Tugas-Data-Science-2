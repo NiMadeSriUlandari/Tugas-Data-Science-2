{
 "cells": [
  {
   "cell_type": "markdown",
   "id": "c728904e",
   "metadata": {},
   "source": [
    "Exercise\n",
    "\n",
    "\n",
    "Write the code to open the 'invoices.csv' file for reading, and then print only the heading 'Invoice No' and the data for the invoice numbers.\n",
    "\n",
    "Use the following comments to guide you"
   ]
  },
  {
   "cell_type": "code",
   "execution_count": 24,
   "id": "d0f22e96",
   "metadata": {},
   "outputs": [
    {
     "name": "stdout",
     "output_type": "stream",
     "text": [
      "['Invoice No, Customer Name, Date, Invoice Amount\\n', '13002, Lighthouse Entertainment, 13 Jan 2020, $45.60\\n', '13003, Main Street News, 13 Jan 2020, $100.20\\n', '13003, Lee Enterprise, 14 Jan 2020, $30.00\\n', '13004, Raju Store, 14 Jan 2020, $300.20\\n']\n",
      "Invoice No\n",
      "13002\n",
      "13003\n",
      "13003\n",
      "13004\n"
     ]
    }
   ],
   "source": [
    "# open the file for reading\n",
    "myfiles =open (\"invoices.csv\")\n",
    "\n",
    "# read all the lines\n",
    "mydata = myfiles.readlines()\n",
    "\n",
    "# This stores line as an element in a list.\n",
    "print(mydata)\n",
    "\n",
    "# header is the first element in the list of lines\n",
    "header = mydata[0]\n",
    "\n",
    "# use a split() function to separate the header names by the comma\n",
    "header_names = header.split(\",\")\n",
    "\n",
    "# print the first element of the header names after splitting\n",
    "print(header_names[0])\n",
    "\n",
    "# use a for loop (with a slice starting at index 1) for the rest of the lines\n",
    "for line in mydata[1:]:\n",
    "    # split at the comma\n",
    "     parts = line.split(\",\")\n",
    "    \n",
    "    # print the first element\n",
    "     print(parts[0]) \n",
    "    \n",
    "# close the file\n"
   ]
  }
 ],
 "metadata": {
  "kernelspec": {
   "display_name": "Python 3 (ipykernel)",
   "language": "python",
   "name": "python3"
  },
  "language_info": {
   "codemirror_mode": {
    "name": "ipython",
    "version": 3
   },
   "file_extension": ".py",
   "mimetype": "text/x-python",
   "name": "python",
   "nbconvert_exporter": "python",
   "pygments_lexer": "ipython3",
   "version": "3.11.4"
  }
 },
 "nbformat": 4,
 "nbformat_minor": 5
}
