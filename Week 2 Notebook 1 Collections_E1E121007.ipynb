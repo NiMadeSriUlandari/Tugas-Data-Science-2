{
 "cells": [
  {
   "cell_type": "markdown",
   "metadata": {},
   "source": [
    "## Exercises"
   ]
  },
  {
   "cell_type": "markdown",
   "metadata": {},
   "source": [
    "create teh list in the cell below:"
   ]
  },
  {
   "cell_type": "code",
   "execution_count": 3,
   "metadata": {},
   "outputs": [
    {
     "name": "stdout",
     "output_type": "stream",
     "text": [
      "['java', 'python', 'c++', 'kotlin']\n"
     ]
    }
   ],
   "source": [
    "languages = [\"java\", \"python\",\"c++\",\"kotlin\"]\n",
    "print(languages)"
   ]
  },
  {
   "cell_type": "markdown",
   "metadata": {},
   "source": [
    "Q1. Print the second element in the list using its index."
   ]
  },
  {
   "cell_type": "code",
   "execution_count": 5,
   "metadata": {},
   "outputs": [
    {
     "name": "stdout",
     "output_type": "stream",
     "text": [
      "Python\n"
     ]
    }
   ],
   "source": [
    "# Q1 answer\n",
    "languages = [\"Java\", \"Python\", \"C++\", \"Kotlin\"] \n",
    "print(languages[1])\n",
    "\n"
   ]
  },
  {
   "cell_type": "markdown",
   "metadata": {},
   "source": [
    "Q2. Print the last element in the list."
   ]
  },
  {
   "cell_type": "code",
   "execution_count": 6,
   "metadata": {},
   "outputs": [
    {
     "name": "stdout",
     "output_type": "stream",
     "text": [
      "Kotlin\n"
     ]
    }
   ],
   "source": [
    "# Q2 answer\n",
    "languages = [\"Java\", \"Python\", \"C++\", \"Kotlin\"] \n",
    "print(languages[-1])\n"
   ]
  },
  {
   "cell_type": "markdown",
   "metadata": {},
   "source": [
    "Q3. Using slicing, print the elements \"Java\" and \"C++\""
   ]
  },
  {
   "cell_type": "code",
   "execution_count": 7,
   "metadata": {},
   "outputs": [
    {
     "name": "stdout",
     "output_type": "stream",
     "text": [
      "['Java', 'C++']\n"
     ]
    }
   ],
   "source": [
    "# Q3 answer\n",
    "languages = [\"Java\", \"Python\", \"C++\", \"Kotlin\"] \n",
    "print(languages[::2])"
   ]
  },
  {
   "cell_type": "markdown",
   "metadata": {},
   "source": [
    "Q4. Add the language \"R\" in the list so that it appears *before* \"Python\""
   ]
  },
  {
   "cell_type": "code",
   "execution_count": 8,
   "metadata": {},
   "outputs": [
    {
     "name": "stdout",
     "output_type": "stream",
     "text": [
      "['Java', 'R', 'Python', 'C++', 'Kotlin']\n"
     ]
    }
   ],
   "source": [
    "# Q4 answer\n",
    "languages = [\"Java\", \"Python\", \"C++\", \"Kotlin\"]\n",
    "languages.insert(1, \"R\") \n",
    "print(languages)\n"
   ]
  },
  {
   "cell_type": "markdown",
   "metadata": {},
   "source": [
    "Q5. Remove the last element in the list."
   ]
  },
  {
   "cell_type": "code",
   "execution_count": 9,
   "metadata": {},
   "outputs": [
    {
     "name": "stdout",
     "output_type": "stream",
     "text": [
      "['Java', 'Python', 'C++']\n"
     ]
    }
   ],
   "source": [
    "# Q5 answer\n",
    "languages = [\"Java\", \"Python\", \"C++\", \"Kotlin\"]\n",
    "languages.pop(-1)  \n",
    "print(languages)\n"
   ]
  },
  {
   "cell_type": "markdown",
   "metadata": {},
   "source": [
    "Q6. Change the list to a tuple and run the cells for the rest of the commands that you have written. Which ones can execute without errors?\n"
   ]
  },
  {
   "cell_type": "code",
   "execution_count": 10,
   "metadata": {},
   "outputs": [
    {
     "name": "stdout",
     "output_type": "stream",
     "text": [
      "Python\n"
     ]
    }
   ],
   "source": [
    "# Q6 - change the list to a tuple \n",
    "languages = (\"java\", \"Python\", \"C++\", \"Kotlin\")\n",
    "print(languages[1])"
   ]
  },
  {
   "cell_type": "markdown",
   "metadata": {},
   "source": [
    "Q7. Change the list of a set and run the commands for the rest of the commands that you have written. Which ones can execute without errors? "
   ]
  },
  {
   "cell_type": "code",
   "execution_count": 12,
   "metadata": {},
   "outputs": [
    {
     "name": "stdout",
     "output_type": "stream",
     "text": [
      "{'Kotlin', 'Python', 'java', 'C++'}\n"
     ]
    }
   ],
   "source": [
    "# Q7 - change the list to a set\n",
    "languages = {\"java\", \"Python\", \"C++\", \"Kotlin\"}\n",
    "print(languages)"
   ]
  },
  {
   "cell_type": "code",
   "execution_count": null,
   "metadata": {},
   "outputs": [],
   "source": []
  }
 ],
 "metadata": {
  "kernelspec": {
   "display_name": "Python 3 (ipykernel)",
   "language": "python",
   "name": "python3"
  },
  "language_info": {
   "codemirror_mode": {
    "name": "ipython",
    "version": 3
   },
   "file_extension": ".py",
   "mimetype": "text/x-python",
   "name": "python",
   "nbconvert_exporter": "python",
   "pygments_lexer": "ipython3",
   "version": "3.11.4"
  }
 },
 "nbformat": 4,
 "nbformat_minor": 2
}
